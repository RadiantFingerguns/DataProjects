{
 "cells": [
  {
   "cell_type": "markdown",
   "metadata": {
    "collapsed": true
   },
   "source": [
    "<h3>**Market Share by Genre in Apple Store & Google Play Store**</h3>\n",
    "\n",
    "The purpose of this project is to look at prevailing trends in the app store to see where to next best focus our development to get the largest market share for the app.\n",
    "\n",
    "Our goal is to narrow down the proposed app to a specific istore/play store app category based on market size and popularity. \n",
    "\n",
    "Due to the size and scope of the number of apps in the stores, we'll focus on using data sets that contain [10,000 Play Store apps](https://www.kaggle.com/lava18/google-play-store-apps/home) and [7,000 iOS apps](https://www.kaggle.com/ramamet4/app-store-apple-data-set-10k-apps/home).\n",
    "\n",
    "The following is a function to more easily display the first part of the data tables to reference them to see if functions procesed them correctly:"
   ]
  },
  {
   "cell_type": "code",
   "execution_count": 1,
   "metadata": {
    "collapsed": true
   },
   "outputs": [],
   "source": [
    "def explore_data(dataset, start, end, rows_and_columns=False):\n",
    "    dataset_slice = dataset[start:end]    \n",
    "    for row in dataset_slice:\n",
    "        print(row)\n",
    "        print('\\n') # adds a new (empty) line after each row\n",
    "\n",
    "    if rows_and_columns:\n",
    "        print('Number of rows:', len(dataset))\n",
    "        print('Number of columns:', len(dataset[0]))"
   ]
  },
  {
   "cell_type": "markdown",
   "metadata": {},
   "source": [
    "Now we will import the datasets and splice off the header rows for easier reference. "
   ]
  },
  {
   "cell_type": "code",
   "execution_count": 2,
   "metadata": {
    "collapsed": false
   },
   "outputs": [],
   "source": [
    "import csv\n",
    "#Import both store datasets:\n",
    "raw_google_read=open(\"googleplaystore.csv\")\n",
    "raw_apple_read=open(\"AppleStore.csv\")\n",
    "\n",
    "#Parse both files using the CSV reader\n",
    "#then convert them to lists of lists\n",
    "android = list(csv.reader(raw_google_read))\n",
    "apple = list(csv.reader(raw_apple_read))\n",
    "\n",
    "#remove Header rows\n",
    "android_header=android[0]\n",
    "android=android[1:]\n",
    "apple_header=apple[0]\n",
    "apple=apple[1:]\n",
    "\n"
   ]
  },
  {
   "cell_type": "markdown",
   "metadata": {},
   "source": [
    "Let's first explore the Goolge play data set\n"
   ]
  },
  {
   "cell_type": "code",
   "execution_count": 3,
   "metadata": {
    "collapsed": false
   },
   "outputs": [
    {
     "name": "stdout",
     "output_type": "stream",
     "text": [
      "['App', 'Category', 'Rating', 'Reviews', 'Size', 'Installs', 'Type', 'Price', 'Content Rating', 'Genres', 'Last Updated', 'Current Ver', 'Android Ver']\n",
      "['Photo Editor & Candy Camera & Grid & ScrapBook', 'ART_AND_DESIGN', '4.1', '159', '19M', '10,000+', 'Free', '0', 'Everyone', 'Art & Design', 'January 7, 2018', '1.0.0', '4.0.3 and up']\n",
      "\n",
      "\n",
      "['Coloring book moana', 'ART_AND_DESIGN', '3.9', '967', '14M', '500,000+', 'Free', '0', 'Everyone', 'Art & Design;Pretend Play', 'January 15, 2018', '2.0.0', '4.0.3 and up']\n",
      "\n",
      "\n",
      "['U Launcher Lite – FREE Live Cool Themes, Hide Apps', 'ART_AND_DESIGN', '4.7', '87510', '8.7M', '5,000,000+', 'Free', '0', 'Everyone', 'Art & Design', 'August 1, 2018', '1.2.4', '4.0.3 and up']\n",
      "\n",
      "\n",
      "['Sketch - Draw & Paint', 'ART_AND_DESIGN', '4.5', '215644', '25M', '50,000,000+', 'Free', '0', 'Teen', 'Art & Design', 'June 8, 2018', 'Varies with device', '4.2 and up']\n",
      "\n",
      "\n",
      "['Pixel Draw - Number Art Coloring Book', 'ART_AND_DESIGN', '4.3', '967', '2.8M', '100,000+', 'Free', '0', 'Everyone', 'Art & Design;Creativity', 'June 20, 2018', '1.1', '4.4 and up']\n",
      "\n",
      "\n",
      "Number of rows: 10841\n",
      "Number of columns: 13\n"
     ]
    }
   ],
   "source": [
    "print(android_header)\n",
    "explore_data(android, 0,5, rows_and_columns=True)"
   ]
  },
  {
   "cell_type": "markdown",
   "metadata": {},
   "source": [
    "It looks like the Google Play dataset has 10,841 apps with 13 columns of data. the columns labeled 'App', 'Category', 'Rating', 'Reviews',  'Installs', 'Type', 'Price',  'Genres' will where we'll focus our analysis for this set. \n"
   ]
  },
  {
   "cell_type": "code",
   "execution_count": 4,
   "metadata": {
    "collapsed": false
   },
   "outputs": [
    {
     "name": "stdout",
     "output_type": "stream",
     "text": [
      "['id', 'track_name', 'size_bytes', 'currency', 'price', 'rating_count_tot', 'rating_count_ver', 'user_rating', 'user_rating_ver', 'ver', 'cont_rating', 'prime_genre', 'sup_devices.num', 'ipadSc_urls.num', 'lang.num', 'vpp_lic']\n",
      "['284882215', 'Facebook', '389879808', 'USD', '0.0', '2974676', '212', '3.5', '3.5', '95.0', '4+', 'Social Networking', '37', '1', '29', '1']\n",
      "\n",
      "\n",
      "['389801252', 'Instagram', '113954816', 'USD', '0.0', '2161558', '1289', '4.5', '4.0', '10.23', '12+', 'Photo & Video', '37', '0', '29', '1']\n",
      "\n",
      "\n",
      "['529479190', 'Clash of Clans', '116476928', 'USD', '0.0', '2130805', '579', '4.5', '4.5', '9.24.12', '9+', 'Games', '38', '5', '18', '1']\n",
      "\n",
      "\n",
      "['420009108', 'Temple Run', '65921024', 'USD', '0.0', '1724546', '3842', '4.5', '4.0', '1.6.2', '9+', 'Games', '40', '5', '1', '1']\n",
      "\n",
      "\n",
      "['284035177', 'Pandora - Music & Radio', '130242560', 'USD', '0.0', '1126879', '3594', '4.0', '4.5', '8.4.1', '12+', 'Music', '37', '4', '1', '1']\n",
      "\n",
      "\n",
      "Number of rows: 7197\n",
      "Number of columns: 16\n"
     ]
    }
   ],
   "source": [
    "print(apple_header)\n",
    "explore_data(apple, 0,5, rows_and_columns=True)\n"
   ]
  },
  {
   "cell_type": "markdown",
   "metadata": {},
   "source": [
    "Looking at the dataset for the iOS data, it looks like we've got 7,197 apps with 16 columns of data. The columns 'track_name',  'price', 'rating_count_tot', 'rating_count_ver', 'user_rating', and 'prime_genre' may be most useful for anlaysis. \n"
   ]
  },
  {
   "cell_type": "markdown",
   "metadata": {},
   "source": [
    "<H2>**Cleaning Data**</h2>\n",
    "\n",
    "According to the discussion from the dataset, one of the rows, line 10472 is malformed. Below we'll check to confirm, and delete if it is. It points to the row being \"Life Made WI-Fi Touchscreen Photo Frame\". "
   ]
  },
  {
   "cell_type": "code",
   "execution_count": 5,
   "metadata": {
    "collapsed": false,
    "scrolled": true
   },
   "outputs": [
    {
     "name": "stdout",
     "output_type": "stream",
     "text": [
      "10473\n",
      "['App', 'Category', 'Rating', 'Reviews', 'Size', 'Installs', 'Type', 'Price', 'Content Rating', 'Genres', 'Last Updated', 'Current Ver', 'Android Ver'] \n",
      " ['Life Made WI-Fi Touchscreen Photo Frame', '1.9', '19', '3.0M', '1,000+', 'Free', '0', 'Everyone', '', 'February 11, 2018', '1.0.19', '4.0 and up'] \n",
      "\n"
     ]
    }
   ],
   "source": [
    "i=0\n",
    "for rows in android:\n",
    "    i+=1  \n",
    "    if rows[0].startswith(\"Life Made\"):\n",
    "        print(i)        \n",
    "print(android_header, \"\\n\", android[10472], \"\\n\")\n"
   ]
  },
  {
   "cell_type": "markdown",
   "metadata": {},
   "source": [
    "According to this, the Life Made Wi-Fi Touchscreen Photoframe App is 10473 iterations through the list (index 10472), as expected. \n",
    "\n",
    "If we compare the header to the row data, we'll see it's got a blank space where the category should be. This makes it useless for our analysis, so we will delete it from the dataset. "
   ]
  },
  {
   "cell_type": "code",
   "execution_count": 6,
   "metadata": {
    "collapsed": false
   },
   "outputs": [
    {
     "name": "stdout",
     "output_type": "stream",
     "text": [
      "current length of android file:  10841\n",
      "updated length of android file:  10840\n"
     ]
    }
   ],
   "source": [
    "print(\"current length of android file: \",len(android))\n",
    "\n",
    "del (android[10472])\n",
    "\n",
    "# Check to make sure its gone:\n",
    "print(\"updated length of android file: \", len(android))"
   ]
  },
  {
   "cell_type": "markdown",
   "metadata": {
    "collapsed": true
   },
   "source": [
    "**<h2>De-Duplicating Goole Play Data</h2>**\n",
    "\n",
    "It turns out upon further examination, that the google play dataset has duplicate apps in it (ie, instagram appears mulitple times). Next I'll look at the number of apps that appear more than once: "
   ]
  },
  {
   "cell_type": "code",
   "execution_count": 7,
   "metadata": {
    "collapsed": false
   },
   "outputs": [
    {
     "name": "stdout",
     "output_type": "stream",
     "text": [
      "['Instagram', 'SOCIAL', '4.5', '66577313', 'Varies with device', '1,000,000,000+', 'Free', '0', 'Teen', 'Social', 'July 31, 2018', 'Varies with device', 'Varies with device']\n",
      "['Instagram', 'SOCIAL', '4.5', '66577446', 'Varies with device', '1,000,000,000+', 'Free', '0', 'Teen', 'Social', 'July 31, 2018', 'Varies with device', 'Varies with device']\n",
      "['Instagram', 'SOCIAL', '4.5', '66577313', 'Varies with device', '1,000,000,000+', 'Free', '0', 'Teen', 'Social', 'July 31, 2018', 'Varies with device', 'Varies with device']\n",
      "['Instagram', 'SOCIAL', '4.5', '66509917', 'Varies with device', '1,000,000,000+', 'Free', '0', 'Teen', 'Social', 'July 31, 2018', 'Varies with device', 'Varies with device']\n"
     ]
    }
   ],
   "source": [
    "for rows in android:\n",
    "    if rows[0] == \"Instagram\":\n",
    "        print(rows)"
   ]
  },
  {
   "cell_type": "code",
   "execution_count": 8,
   "metadata": {
    "collapsed": false
   },
   "outputs": [
    {
     "name": "stdout",
     "output_type": "stream",
     "text": [
      "Duplicate Apps:  1181\n",
      "Unique Apps:  9659\n",
      "Examples of duplicate apps: \n",
      "['Quick PDF Scanner + OCR FREE', 'Box', 'Google My Business', 'ZOOM Cloud Meetings', 'join.me - Simple Meetings', 'Box', 'Zenefits', 'Google Ads', 'Google My Business', 'Slack', 'FreshBooks Classic', 'Insightly CRM', 'QuickBooks Accounting: Invoicing & Expenses', 'HipChat - Chat Built for Teams', 'Xero Accounting Software']\n"
     ]
    }
   ],
   "source": [
    "duplicate_apps=[]\n",
    "unique_apps=[]\n",
    "\n",
    "for app in android:\n",
    "    name = app[0]\n",
    "    if name in unique_apps:\n",
    "        duplicate_apps.append(name)\n",
    "    else:\n",
    "        unique_apps.append(name)\n",
    "        \n",
    "print(\"Duplicate Apps: \", len(duplicate_apps))\n",
    "print(\"Unique Apps: \", len(android)-len(duplicate_apps))\n",
    "print(\"Examples of duplicate apps: \")\n",
    "print(duplicate_apps[0:15])\n"
   ]
  },
  {
   "cell_type": "markdown",
   "metadata": {},
   "source": [
    "We can see based on this code, that of the 10,840 remaining apps, there are 9,659 unique apps and 1,181 duplicate apps. \n",
    "\n",
    "Since  these apps can be old versions or spoofs, we'll want to keep the highest rated apps, since those are likely to be the original. \n",
    "\n",
    "To do this, we'll run some code to isolate only the highest reviewed apps. It'll take an app, and append it to the dictionary \"reviews_max\". If another app appears with the same name, it will compare the two for number of reviews if the already existing data has a higher view, it will keep it, or if the other line of data has a higher number of reviews, replace the current data. "
   ]
  },
  {
   "cell_type": "code",
   "execution_count": 9,
   "metadata": {
    "collapsed": false
   },
   "outputs": [
    {
     "name": "stdout",
     "output_type": "stream",
     "text": [
      "length of individual apps:  9659\n"
     ]
    }
   ],
   "source": [
    "reviews_max = {}\n",
    "\n",
    "for apps in android:\n",
    "    name = apps[0]\n",
    "    n_reviews = float(apps[3])\n",
    "    \n",
    "    if (name in reviews_max) and (reviews_max[name] < n_reviews):\n",
    "        reviews_max[name] = n_reviews\n",
    "    if (name not in reviews_max):\n",
    "        reviews_max[name]= n_reviews\n",
    "        \n",
    "#print the length to make sure it makes the expected length of \n",
    "#the \"Unique Apps\" count derived above: \n",
    "print(\"length of individual apps: \", len(reviews_max))"
   ]
  },
  {
   "cell_type": "markdown",
   "metadata": {},
   "source": [
    "Next, we'll take the list with only the highest reviews, and use the reviews to filter it against the main list. Only the apps where the highest review is equal to the highest review count will be appended: "
   ]
  },
  {
   "cell_type": "code",
   "execution_count": 10,
   "metadata": {
    "collapsed": false
   },
   "outputs": [
    {
     "name": "stdout",
     "output_type": "stream",
     "text": [
      "android clean length:  9659 \n",
      "\n"
     ]
    }
   ],
   "source": [
    "android_clean = []\n",
    "already_added = []\n",
    "\n",
    "for apps in android:\n",
    "    name = apps[0]\n",
    "    n_reviews = float(apps[3])\n",
    "    \n",
    "    if (n_reviews == reviews_max[name] and (name not in already_added)):\n",
    "        android_clean.append(apps)\n",
    "        already_added.append(name)\n",
    "        \n",
    "print(\"android clean length: \",len(android_clean), \"\\n\")"
   ]
  },
  {
   "cell_type": "markdown",
   "metadata": {},
   "source": [
    "We can see that the clean android list is now 9,659, just like the unique apps list above. \n",
    "\n",
    "<h2>Removing Non-English language apps</h2>\n",
    "\n",
    "Now that we have a dataset for the android apps without duplicates, we need to remove any of the apps that are certainly in non english. This includes apps where the name would be in Cyrillic, Kanji, Arabic, etc. \n",
    "\n",
    "Because all romanized alphabet characters appear in the first 127 positions of the ASCII map, anything above that is not going to be in a english script. In order to allow certain special characters like the trademark ™ through, we'll allow up to 3 characters over the first 127 ASCII characters. \n",
    "\n",
    "Although this method is not perfect, it should provide a good \"Close Enough\" list. "
   ]
  },
  {
   "cell_type": "code",
   "execution_count": 11,
   "metadata": {
    "collapsed": false
   },
   "outputs": [
    {
     "name": "stdout",
     "output_type": "stream",
     "text": [
      "android english length:  9614 \n",
      "\n",
      "apple english length:  6183 \n",
      "\n"
     ]
    }
   ],
   "source": [
    "def lang_check(check_string):\n",
    "    threshold = 0\n",
    "    for letter in check_string:\n",
    "        if ord(letter)>127:\n",
    "            threshold+=1\n",
    "    if threshold > 3:\n",
    "        return False\n",
    "    else:\n",
    "        return True\n",
    "    \n",
    "android_english = []\n",
    "apple_english = []\n",
    "\n",
    "for apps in android_clean:\n",
    "    name = apps[0]\n",
    "        \n",
    "    if lang_check(name) == True:\n",
    "        android_english.append(apps)\n",
    "\n",
    "for apps in apple:\n",
    "    name = apps[1]\n",
    "        \n",
    "    if lang_check(name) == True:\n",
    "        apple_english.append(apps)\n",
    "        \n",
    "        \n",
    "print(\"android english length: \",len(android_english), \"\\n\")\n",
    "print(\"apple english length: \",len(apple_english), \"\\n\")\n"
   ]
  },
  {
   "cell_type": "markdown",
   "metadata": {},
   "source": [
    "Now that we've isolated inaccurate data, duplicate apps and non-english apps, we are left with 9,614 android apps and 6,183 iOS store apps. From there, we will isolate this further to just the free apps.\n",
    "\n",
    "<h2>Isolating the Free Apps</h2>\n",
    "\n",
    "Next, we will isolate only apps where the cost is free from the subset of the previous apps. "
   ]
  },
  {
   "cell_type": "code",
   "execution_count": 12,
   "metadata": {
    "collapsed": false
   },
   "outputs": [
    {
     "name": "stdout",
     "output_type": "stream",
     "text": [
      "Number of free, English-Only android Apps:  8864\n",
      "Number of free, English-Only Apple iOS Apps:  3222\n"
     ]
    }
   ],
   "source": [
    "android_final=[]\n",
    "apple_final = []\n",
    "\n",
    "for app in android_english:\n",
    "    price = app[7]\n",
    "    if price == '0':\n",
    "        android_final.append(app)\n",
    "        \n",
    "for app in apple_english:\n",
    "    price = app[4]\n",
    "    if price == '0.0':\n",
    "        apple_final.append(app)\n",
    "        \n",
    "print(\"Number of free, English-Only android Apps: \",len(android_final))\n",
    "print(\"Number of free, English-Only Apple iOS Apps: \", len(apple_final))"
   ]
  },
  {
   "cell_type": "markdown",
   "metadata": {},
   "source": [
    "<H2>Determining App Frequency By Genre</H2>\n",
    "\n",
    "Now that we've cleaned the data and narrowed the apps to only the free apps, it's time to analyze the data by looking at the number of apps in each category in these datasets. To do this, we'll create a couple functions that will take the colums from a table and turn them into a frequency table (dictionary) and then another function to sort those from highest to lowest. \n",
    "\n",
    "Using that, we'll be able to look at which genres/types of apps in App store are the most popular."
   ]
  },
  {
   "cell_type": "code",
   "execution_count": 13,
   "metadata": {
    "collapsed": false
   },
   "outputs": [],
   "source": [
    "#returns a frequency table based on\n",
    "#user input of a Dataset and a Index column:\n",
    "def freq_table(dataset, index):\n",
    "    output_table= {}\n",
    "    length=len(dataset)\n",
    "   \n",
    "    for info in dataset:\n",
    "        item = info[index]\n",
    "        if item in output_table:\n",
    "            output_table[item]+=1\n",
    "        else: \n",
    "            output_table[item]=1    \n",
    "    \n",
    "    table_percents = {}\n",
    "    for key in output_table:\n",
    "        percent = (output_table[key]/length)*100\n",
    "        table_percents[key]= percent\n",
    "    return table_percents   \n",
    "\n",
    "\n",
    "def display_table(dataset, index):\n",
    "    table = freq_table(dataset, index)\n",
    "    table_display = []\n",
    "    for key in table:\n",
    "        key_val_as_tuple = (table[key], key)\n",
    "        table_display.append(key_val_as_tuple)\n",
    "        \n",
    "    table_sorted = sorted(table_display, reverse = True)\n",
    "    for entry in table_sorted:\n",
    "        print(entry[1], ':', entry[0])\n"
   ]
  },
  {
   "cell_type": "markdown",
   "metadata": {},
   "source": [
    "First, we'll look at the prime_genre column in iOS store data column index 11:  "
   ]
  },
  {
   "cell_type": "code",
   "execution_count": 14,
   "metadata": {
    "collapsed": false
   },
   "outputs": [
    {
     "name": "stdout",
     "output_type": "stream",
     "text": [
      "Games : 58.16263190564867\n",
      "Entertainment : 7.883302296710118\n",
      "Photo & Video : 4.9658597144630665\n",
      "Education : 3.662321539416512\n",
      "Social Networking : 3.2898820608317814\n",
      "Shopping : 2.60707635009311\n",
      "Utilities : 2.5139664804469275\n",
      "Sports : 2.1415270018621975\n",
      "Music : 2.0484171322160147\n",
      "Health & Fitness : 2.0173805090006205\n",
      "Productivity : 1.7380509000620732\n",
      "Lifestyle : 1.5828677839851024\n",
      "News : 1.3345747982619491\n",
      "Travel : 1.2414649286157666\n",
      "Finance : 1.1173184357541899\n",
      "Weather : 0.8690254500310366\n",
      "Food & Drink : 0.8069522036002483\n",
      "Reference : 0.5586592178770949\n",
      "Business : 0.5276225946617008\n",
      "Book : 0.4345127250155183\n",
      "Navigation : 0.186219739292365\n",
      "Medical : 0.186219739292365\n",
      "Catalogs : 0.12414649286157665\n"
     ]
    }
   ],
   "source": [
    "display_table(apple_final, 11)"
   ]
  },
  {
   "cell_type": "markdown",
   "metadata": {},
   "source": [
    "Based on the above, 58.16% of all the English-language iOS are primarily entertainment apps, followed entertainent (7.88%), Photo & Video (4.97%). \n",
    "\n",
    "Simply based on the number of reviews, though, we can't tell if they have the most users, only the most reviews. Other apps might be more marketable and have a smaller review database. \n"
   ]
  },
  {
   "cell_type": "code",
   "execution_count": 15,
   "metadata": {
    "collapsed": false
   },
   "outputs": [
    {
     "name": "stdout",
     "output_type": "stream",
     "text": [
      "FAMILY : 18.907942238267147\n",
      "GAME : 9.724729241877256\n",
      "TOOLS : 8.461191335740072\n",
      "BUSINESS : 4.591606498194946\n",
      "LIFESTYLE : 3.9034296028880866\n",
      "PRODUCTIVITY : 3.892148014440433\n",
      "FINANCE : 3.7003610108303246\n",
      "MEDICAL : 3.531137184115524\n",
      "SPORTS : 3.395758122743682\n",
      "PERSONALIZATION : 3.3167870036101084\n",
      "COMMUNICATION : 3.2378158844765346\n",
      "HEALTH_AND_FITNESS : 3.0798736462093865\n",
      "PHOTOGRAPHY : 2.944494584837545\n",
      "NEWS_AND_MAGAZINES : 2.7978339350180503\n",
      "SOCIAL : 2.6624548736462095\n",
      "TRAVEL_AND_LOCAL : 2.33528880866426\n",
      "SHOPPING : 2.2450361010830324\n",
      "BOOKS_AND_REFERENCE : 2.1435018050541514\n",
      "DATING : 1.861462093862816\n",
      "VIDEO_PLAYERS : 1.7937725631768955\n",
      "MAPS_AND_NAVIGATION : 1.3989169675090252\n",
      "FOOD_AND_DRINK : 1.2409747292418771\n",
      "EDUCATION : 1.1620036101083033\n",
      "ENTERTAINMENT : 0.9589350180505415\n",
      "LIBRARIES_AND_DEMO : 0.9363718411552346\n",
      "AUTO_AND_VEHICLES : 0.9250902527075812\n",
      "HOUSE_AND_HOME : 0.8235559566787004\n",
      "WEATHER : 0.8009927797833934\n",
      "EVENTS : 0.7107400722021661\n",
      "PARENTING : 0.6543321299638989\n",
      "ART_AND_DESIGN : 0.6430505415162455\n",
      "COMICS : 0.6204873646209386\n",
      "BEAUTY : 0.5979241877256317\n"
     ]
    }
   ],
   "source": [
    "display_table(android_final, 1)"
   ]
  },
  {
   "cell_type": "markdown",
   "metadata": {},
   "source": [
    "Based on the above data from the Play Store apps, the family category is the leading category with 18.91% of the share, followed by Game & Tool (9.72% and 8.46% respectively). "
   ]
  },
  {
   "cell_type": "code",
   "execution_count": 16,
   "metadata": {
    "collapsed": false
   },
   "outputs": [
    {
     "name": "stdout",
     "output_type": "stream",
     "text": [
      "Tools : 8.449909747292418\n",
      "Entertainment : 6.069494584837545\n",
      "Education : 5.347472924187725\n",
      "Business : 4.591606498194946\n",
      "Productivity : 3.892148014440433\n",
      "Lifestyle : 3.892148014440433\n",
      "Finance : 3.7003610108303246\n",
      "Medical : 3.531137184115524\n",
      "Sports : 3.463447653429603\n",
      "Personalization : 3.3167870036101084\n",
      "Communication : 3.2378158844765346\n",
      "Action : 3.1024368231046933\n",
      "Health & Fitness : 3.0798736462093865\n",
      "Photography : 2.944494584837545\n",
      "News & Magazines : 2.7978339350180503\n",
      "Social : 2.6624548736462095\n",
      "Travel & Local : 2.3240072202166067\n",
      "Shopping : 2.2450361010830324\n",
      "Books & Reference : 2.1435018050541514\n",
      "Simulation : 2.0419675090252705\n",
      "Dating : 1.861462093862816\n",
      "Arcade : 1.8501805054151623\n",
      "Video Players & Editors : 1.7712093862815883\n",
      "Casual : 1.7599277978339352\n",
      "Maps & Navigation : 1.3989169675090252\n",
      "Food & Drink : 1.2409747292418771\n",
      "Puzzle : 1.128158844765343\n",
      "Racing : 0.9927797833935018\n",
      "Role Playing : 0.9363718411552346\n",
      "Libraries & Demo : 0.9363718411552346\n",
      "Auto & Vehicles : 0.9250902527075812\n",
      "Strategy : 0.9138086642599278\n",
      "House & Home : 0.8235559566787004\n",
      "Weather : 0.8009927797833934\n",
      "Events : 0.7107400722021661\n",
      "Adventure : 0.6768953068592057\n",
      "Comics : 0.6092057761732852\n",
      "Beauty : 0.5979241877256317\n",
      "Art & Design : 0.5979241877256317\n",
      "Parenting : 0.4963898916967509\n",
      "Card : 0.45126353790613716\n",
      "Casino : 0.42870036101083037\n",
      "Trivia : 0.41741877256317694\n",
      "Educational;Education : 0.39485559566787\n",
      "Board : 0.3835740072202166\n",
      "Educational : 0.3722924187725632\n",
      "Education;Education : 0.33844765342960287\n",
      "Word : 0.2594765342960289\n",
      "Casual;Pretend Play : 0.236913357400722\n",
      "Music : 0.2030685920577617\n",
      "Racing;Action & Adventure : 0.16922382671480143\n",
      "Puzzle;Brain Games : 0.16922382671480143\n",
      "Entertainment;Music & Video : 0.16922382671480143\n",
      "Casual;Brain Games : 0.13537906137184114\n",
      "Casual;Action & Adventure : 0.13537906137184114\n",
      "Arcade;Action & Adventure : 0.12409747292418773\n",
      "Action;Action & Adventure : 0.10153429602888085\n",
      "Educational;Pretend Play : 0.09025270758122744\n",
      "Simulation;Action & Adventure : 0.078971119133574\n",
      "Parenting;Education : 0.078971119133574\n",
      "Entertainment;Brain Games : 0.078971119133574\n",
      "Board;Brain Games : 0.078971119133574\n",
      "Parenting;Music & Video : 0.06768953068592057\n",
      "Educational;Brain Games : 0.06768953068592057\n",
      "Casual;Creativity : 0.06768953068592057\n",
      "Art & Design;Creativity : 0.06768953068592057\n",
      "Education;Pretend Play : 0.056407942238267145\n",
      "Role Playing;Pretend Play : 0.04512635379061372\n",
      "Education;Creativity : 0.04512635379061372\n",
      "Role Playing;Action & Adventure : 0.033844765342960284\n",
      "Puzzle;Action & Adventure : 0.033844765342960284\n",
      "Entertainment;Creativity : 0.033844765342960284\n",
      "Entertainment;Action & Adventure : 0.033844765342960284\n",
      "Educational;Creativity : 0.033844765342960284\n",
      "Educational;Action & Adventure : 0.033844765342960284\n",
      "Education;Music & Video : 0.033844765342960284\n",
      "Education;Brain Games : 0.033844765342960284\n",
      "Education;Action & Adventure : 0.033844765342960284\n",
      "Adventure;Action & Adventure : 0.033844765342960284\n",
      "Video Players & Editors;Music & Video : 0.02256317689530686\n",
      "Sports;Action & Adventure : 0.02256317689530686\n",
      "Simulation;Pretend Play : 0.02256317689530686\n",
      "Puzzle;Creativity : 0.02256317689530686\n",
      "Music;Music & Video : 0.02256317689530686\n",
      "Entertainment;Pretend Play : 0.02256317689530686\n",
      "Casual;Education : 0.02256317689530686\n",
      "Board;Action & Adventure : 0.02256317689530686\n",
      "Video Players & Editors;Creativity : 0.01128158844765343\n",
      "Trivia;Education : 0.01128158844765343\n",
      "Travel & Local;Action & Adventure : 0.01128158844765343\n",
      "Tools;Education : 0.01128158844765343\n",
      "Strategy;Education : 0.01128158844765343\n",
      "Strategy;Creativity : 0.01128158844765343\n",
      "Strategy;Action & Adventure : 0.01128158844765343\n",
      "Simulation;Education : 0.01128158844765343\n",
      "Role Playing;Brain Games : 0.01128158844765343\n",
      "Racing;Pretend Play : 0.01128158844765343\n",
      "Puzzle;Education : 0.01128158844765343\n",
      "Parenting;Brain Games : 0.01128158844765343\n",
      "Music & Audio;Music & Video : 0.01128158844765343\n",
      "Lifestyle;Pretend Play : 0.01128158844765343\n",
      "Lifestyle;Education : 0.01128158844765343\n",
      "Health & Fitness;Education : 0.01128158844765343\n",
      "Health & Fitness;Action & Adventure : 0.01128158844765343\n",
      "Entertainment;Education : 0.01128158844765343\n",
      "Communication;Creativity : 0.01128158844765343\n",
      "Comics;Creativity : 0.01128158844765343\n",
      "Casual;Music & Video : 0.01128158844765343\n",
      "Card;Action & Adventure : 0.01128158844765343\n",
      "Books & Reference;Education : 0.01128158844765343\n",
      "Art & Design;Pretend Play : 0.01128158844765343\n",
      "Art & Design;Action & Adventure : 0.01128158844765343\n",
      "Arcade;Pretend Play : 0.01128158844765343\n",
      "Adventure;Education : 0.01128158844765343\n"
     ]
    }
   ],
   "source": [
    "display_table(android_final, 9)"
   ]
  },
  {
   "cell_type": "markdown",
   "metadata": {},
   "source": [
    "The above categories show that Tools(8.45%), Entertainment(6.07%) an Education (5.35%) are the most common categories. Based on the above two frequency tables, it appears that the market is far more diverse and fragmented than the app environment for the app store. However, it is less dominated by gaming apps than the iOS store, indicating there might be more potential for a variety of successful apps. \n",
    "\n",
    "To further analyze, we should look at the number of downloads:\n"
   ]
  },
  {
   "cell_type": "code",
   "execution_count": 17,
   "metadata": {
    "collapsed": false
   },
   "outputs": [
    {
     "name": "stdout",
     "output_type": "stream",
     "text": [
      "Shopping :  26919.690476190477\n",
      "Business :  7491.117647058823\n",
      "Navigation :  86090.33333333333\n",
      "Social Networking :  71548.34905660378\n",
      "Education :  7003.983050847458\n",
      "Games :  22788.6696905016\n",
      "Lifestyle :  16485.764705882353\n",
      "Utilities :  18684.456790123455\n",
      "News :  21248.023255813954\n",
      "Food & Drink :  33333.92307692308\n",
      "Weather :  52279.892857142855\n",
      "Travel :  28243.8\n",
      "Photo & Video :  28441.54375\n",
      "Health & Fitness :  23298.015384615384\n",
      "Sports :  23008.898550724636\n",
      "Music :  57326.530303030304\n",
      "Reference :  74942.11111111111\n",
      "Book :  39758.5\n",
      "Medical :  612.0\n",
      "Finance :  31467.944444444445\n",
      "Entertainment :  14029.830708661417\n",
      "Productivity :  21028.410714285714\n",
      "Catalogs :  4004.0\n"
     ]
    }
   ],
   "source": [
    "apple_prime_genre = freq_table(apple_final, 11)\n",
    "\n",
    "for genre in apple_prime_genre:\n",
    "    total=0\n",
    "    len_genre=0\n",
    "\n",
    "    for apps in apple_final:\n",
    "        genre_app = apps[11]\n",
    "        if genre_app == genre:\n",
    "            total += float(apps[5])\n",
    "            len_genre +=1\n",
    "    print( genre, \": \", total/len_genre)                    \n",
    "            \n",
    "            "
   ]
  },
  {
   "cell_type": "markdown",
   "metadata": {
    "collapsed": true
   },
   "source": [
    "From the above, it looks like the apps with the most userbase is actually navigational apps (86,090), followed by social networking (71,548), and Music (57,326). \n",
    "\n",
    "I would suggest avoiding social networking and music apps, becuase of the nature of those apps having a platform based around them, that is to say, a facebook app only is useful for interaction with a facebook service. unless we were to start a service that might be hard to capitalize on. Same with music. \n",
    "\n",
    "Navigational apps can use open source data, an thus would be a good place to look. for further investigation\n",
    "\n",
    "** Google play** \n",
    "\n",
    "Below, we actually have install data from the app store so we can examine these directly. However, the numbers of installs are not super specific (1 million + means 1 million and one or 5 million?)\n",
    "\n",
    "But as a rough estimate it should provide enough direction. First we'll have to clean up the extra characters (ie, the plusses and the commas), and then we can go from there. "
   ]
  },
  {
   "cell_type": "code",
   "execution_count": 42,
   "metadata": {
    "collapsed": false
   },
   "outputs": [
    {
     "name": "stdout",
     "output_type": "stream",
     "text": [
      "LIBRARIES_AND_DEMO :  638503.734939759\n",
      "PHOTOGRAPHY :  17840110.40229885\n",
      "HOUSE_AND_HOME :  1331540.5616438356\n",
      "TRAVEL_AND_LOCAL :  13984077.710144928\n",
      "EDUCATION :  1833495.145631068\n",
      "SHOPPING :  7036877.311557789\n",
      "MEDICAL :  120550.61980830671\n",
      "ENTERTAINMENT :  11640705.88235294\n",
      "COMMUNICATION :  38456119.167247385\n",
      "AUTO_AND_VEHICLES :  647317.8170731707\n",
      "VIDEO_PLAYERS :  24727872.452830188\n",
      "PRODUCTIVITY :  16787331.344927534\n",
      "SPORTS :  3638640.1428571427\n",
      "TOOLS :  10801391.298666667\n",
      "BUSINESS :  1712290.1474201474\n",
      "PERSONALIZATION :  5201482.6122448975\n",
      "LIFESTYLE :  1437816.2687861272\n",
      "FINANCE :  1387692.475609756\n",
      "ART_AND_DESIGN :  1986335.0877192982\n",
      "GAME :  15588015.603248259\n",
      "NEWS_AND_MAGAZINES :  9549178.467741935\n",
      "BOOKS_AND_REFERENCE :  8767811.894736841\n",
      "WEATHER :  5074486.197183099\n",
      "HEALTH_AND_FITNESS :  4188821.9853479853\n",
      "BEAUTY :  513151.88679245283\n",
      "MAPS_AND_NAVIGATION :  4056941.7741935486\n",
      "PARENTING :  542603.6206896552\n",
      "COMICS :  817657.2727272727\n",
      "SOCIAL :  23253652.127118643\n",
      "FAMILY :  3695641.8198090694\n",
      "FOOD_AND_DRINK :  1924897.7363636363\n",
      "EVENTS :  253542.22222222222\n",
      "DATING :  854028.8303030303\n"
     ]
    }
   ],
   "source": [
    "categories = freq_table(android_final, 1)\n",
    "\n",
    "for category in categories:\n",
    "    total=0\n",
    "    len_genre=0\n",
    "\n",
    "    for apps in android_final:\n",
    "        category_app = apps[1]\n",
    "        if category_app == category:\n",
    "            installs = apps[5]\n",
    "            installs = installs.replace(',', '').replace('+','')\n",
    "            total += float(installs)\n",
    "            len_genre +=1\n",
    "    print( category , \": \", total/len_genre)                 \n",
    "\n"
   ]
  },
  {
   "cell_type": "markdown",
   "metadata": {},
   "source": [
    "The it looks like travel and local/productivity apps rate in the top ten most popular apps, so based on this, it is likely that these would be a good, profitable cross section to pursue for the purpose of our project. \n"
   ]
  }
 ],
 "metadata": {
  "kernelspec": {
   "display_name": "Python 3",
   "language": "python",
   "name": "python3"
  },
  "language_info": {
   "codemirror_mode": {
    "name": "ipython",
    "version": 3
   },
   "file_extension": ".py",
   "mimetype": "text/x-python",
   "name": "python",
   "nbconvert_exporter": "python",
   "pygments_lexer": "ipython3",
   "version": "3.4.3"
  }
 },
 "nbformat": 4,
 "nbformat_minor": 2
}
